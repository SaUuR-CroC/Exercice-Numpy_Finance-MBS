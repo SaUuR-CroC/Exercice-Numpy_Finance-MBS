{
 "cells": [
  {
   "cell_type": "markdown",
   "id": "2b108396",
   "metadata": {
    "slideshow": {
     "slide_type": "slide"
    }
   },
   "source": [
    "## 1.Import the module and package for your environment\n",
    "First, install numpy_financial by running the following:"
   ]
  },
  {
   "cell_type": "raw",
   "id": "5319b473",
   "metadata": {},
   "source": [
    "!pip install numpy_financial"
   ]
  },
  {
   "cell_type": "code",
   "execution_count": null,
   "id": "9ae241bc",
   "metadata": {},
   "outputs": [],
   "source": []
  },
  {
   "cell_type": "markdown",
   "id": "3ddb56b9",
   "metadata": {},
   "source": [
    "Then, import \"numppy_financial\" by running:"
   ]
  },
  {
   "cell_type": "raw",
   "id": "cbd98f61",
   "metadata": {},
   "source": [
    "import numpy_financial as npf"
   ]
  },
  {
   "cell_type": "code",
   "execution_count": null,
   "id": "4e1bd8d7",
   "metadata": {},
   "outputs": [],
   "source": []
  },
  {
   "cell_type": "markdown",
   "id": "7e02abb1",
   "metadata": {},
   "source": [
    "# Exercice d'application avec NumPy Financial - npv/irr functions\n"
   ]
  },
  {
   "cell_type": "markdown",
   "id": "6cb343ce",
   "metadata": {},
   "source": [
    "## Enoncé de l'exercice\n",
    "### Suppose you have a capital project based on the following:\n",
    "- five years life\n",
    "- initial investment: 725,000 usd\n",
    "- cost of capital: 12%\n",
    "- net annual cashflow: 250,000 usd\n",
    "\n",
    "1-What is the Net Present Value of the project?  \n",
    "2-What is the internal rate of return?"
   ]
  },
  {
   "cell_type": "markdown",
   "id": "a285e984",
   "metadata": {},
   "source": [
    "### 1. Let's calculate the NPV"
   ]
  },
  {
   "cell_type": "code",
   "execution_count": 2,
   "id": "336cb2ff",
   "metadata": {},
   "outputs": [],
   "source": []
  },
  {
   "cell_type": "code",
   "execution_count": null,
   "id": "c16db05b",
   "metadata": {},
   "outputs": [],
   "source": []
  },
  {
   "cell_type": "markdown",
   "id": "2dea6fd2",
   "metadata": {},
   "source": [
    "Pour afficher le résultat avec un format monétaire, on peut faire:  "
   ]
  },
  {
   "cell_type": "raw",
   "id": "887a150e",
   "metadata": {},
   "source": [
    "print(f'${npf.npv(rate,cashflows):,.2f}')"
   ]
  },
  {
   "cell_type": "markdown",
   "id": "1c4bdf6f",
   "metadata": {},
   "source": [
    "C'est à toi !"
   ]
  },
  {
   "cell_type": "code",
   "execution_count": null,
   "id": "f24837ce",
   "metadata": {},
   "outputs": [],
   "source": []
  },
  {
   "cell_type": "markdown",
   "id": "298bccac",
   "metadata": {},
   "source": [
    "### Pour voir le découpage de notre flux de trésorerie actualisé par an\n",
    "Nous pouvons utiliser la commande \"discounted\" :  \n",
    "(N'hésites pas à suivre le guide sur le ppt du cours)"
   ]
  },
  {
   "cell_type": "code",
   "execution_count": null,
   "id": "3fc34725",
   "metadata": {},
   "outputs": [],
   "source": []
  },
  {
   "cell_type": "markdown",
   "id": "f079492f",
   "metadata": {},
   "source": [
    "Tu peux afficher le résultat sous forme monétaire comme dans l'exemple précédent"
   ]
  },
  {
   "cell_type": "code",
   "execution_count": null,
   "id": "655fcca6",
   "metadata": {},
   "outputs": [],
   "source": []
  },
  {
   "cell_type": "markdown",
   "id": "844ef6ab",
   "metadata": {},
   "source": [
    "### 2. Let's calculate the IRR"
   ]
  },
  {
   "cell_type": "markdown",
   "id": "e9fe473a",
   "metadata": {},
   "source": [
    "Il ne reste plus qu'a calculer l'IRR (TRI)  \n",
    "A toi de jouer!"
   ]
  },
  {
   "cell_type": "code",
   "execution_count": null,
   "id": "5e994f50",
   "metadata": {},
   "outputs": [],
   "source": []
  }
 ],
 "metadata": {
  "kernelspec": {
   "display_name": "Python 3 (ipykernel)",
   "language": "python",
   "name": "python3"
  },
  "language_info": {
   "codemirror_mode": {
    "name": "ipython",
    "version": 3
   },
   "file_extension": ".py",
   "mimetype": "text/x-python",
   "name": "python",
   "nbconvert_exporter": "python",
   "pygments_lexer": "ipython3",
   "version": "3.10.9"
  }
 },
 "nbformat": 4,
 "nbformat_minor": 5
}
