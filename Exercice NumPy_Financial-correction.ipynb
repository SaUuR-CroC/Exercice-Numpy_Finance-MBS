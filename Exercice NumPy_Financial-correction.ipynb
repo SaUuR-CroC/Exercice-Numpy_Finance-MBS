{
 "cells": [
  {
   "cell_type": "markdown",
   "id": "2b108396",
   "metadata": {
    "slideshow": {
     "slide_type": "slide"
    }
   },
   "source": [
    "## 1.Import the module and package for your environment\n",
    "Run the following: !pip install numpy_financial"
   ]
  },
  {
   "cell_type": "code",
   "execution_count": 5,
   "id": "dbb28a64",
   "metadata": {},
   "outputs": [
    {
     "name": "stdout",
     "output_type": "stream",
     "text": [
      "Requirement already satisfied: numpy_financial in c:\\users\\carbo\\anaconda3\\lib\\site-packages (1.0.0)\n",
      "Requirement already satisfied: numpy>=1.15 in c:\\users\\carbo\\anaconda3\\lib\\site-packages (from numpy_financial) (1.23.5)\n"
     ]
    }
   ],
   "source": [
    "!pip install numpy_financial"
   ]
  },
  {
   "cell_type": "code",
   "execution_count": 19,
   "id": "28e0b56d",
   "metadata": {},
   "outputs": [],
   "source": [
    "import numpy_financial as npf"
   ]
  },
  {
   "cell_type": "markdown",
   "id": "7e02abb1",
   "metadata": {},
   "source": [
    "# Exercice d'application avec NumPy Financial - npv/irr functions\n"
   ]
  },
  {
   "cell_type": "markdown",
   "id": "6cb343ce",
   "metadata": {},
   "source": [
    "## Enoncé de l'exercice\n",
    "### Suppose you have a capital project based on the following:\n",
    "- five years life\n",
    "- initial investment: 725,000 usd\n",
    "- cost of capital: 12%\n",
    "- net annual cashflow: 250,000 usd\n",
    "\n",
    "1-What is the Net Present Value of the project?  \n",
    "2-What is the internal rate of return?"
   ]
  },
  {
   "cell_type": "markdown",
   "id": "a285e984",
   "metadata": {},
   "source": [
    "### 1. Let's calculate the NPV"
   ]
  },
  {
   "cell_type": "code",
   "execution_count": 2,
   "id": "336cb2ff",
   "metadata": {},
   "outputs": [],
   "source": [
    "rate = .12\n",
    "cashflows = [-725000, 250000, 250000, 250000, 250000, 250000,]"
   ]
  },
  {
   "cell_type": "code",
   "execution_count": 7,
   "id": "7435a3e0",
   "metadata": {},
   "outputs": [
    {
     "data": {
      "text/plain": [
       "176194.050586251"
      ]
     },
     "execution_count": 7,
     "metadata": {},
     "output_type": "execute_result"
    }
   ],
   "source": [
    "npf.npv(rate,cashflows)"
   ]
  },
  {
   "cell_type": "markdown",
   "id": "2dea6fd2",
   "metadata": {},
   "source": [
    "Pour afficher le résultat avec un format monétaire, on peut faire:  \n",
    "print(f'$ {npf.npv(rate,cashflows):,.2f}')"
   ]
  },
  {
   "cell_type": "code",
   "execution_count": 11,
   "id": "5815f02e",
   "metadata": {},
   "outputs": [
    {
     "name": "stdout",
     "output_type": "stream",
     "text": [
      "$176,194.05\n"
     ]
    }
   ],
   "source": [
    "print(f'${npf.npv(rate,cashflows):,.2f}')"
   ]
  },
  {
   "cell_type": "markdown",
   "id": "298bccac",
   "metadata": {},
   "source": [
    "### Pour voir le découpage de notre flux de trésorerie actualisé par an\n",
    "Nous pouvons utiliser la commande suivante:"
   ]
  },
  {
   "cell_type": "code",
   "execution_count": 14,
   "id": "3fc34725",
   "metadata": {},
   "outputs": [
    {
     "data": {
      "text/plain": [
       "[-725000.0,\n",
       " 223214.28571428568,\n",
       " 199298.46938775506,\n",
       " 177945.0619533527,\n",
       " 158879.51960120778,\n",
       " 141856.7139296498]"
      ]
     },
     "execution_count": 14,
     "metadata": {},
     "output_type": "execute_result"
    }
   ],
   "source": [
    "discounted = []\n",
    "for year in range(len(cashflows)):\n",
    "    discounted.append(cashflows[year] / (1 + rate) ** year)\n",
    "discounted"
   ]
  },
  {
   "cell_type": "code",
   "execution_count": 20,
   "id": "c201f1dd",
   "metadata": {},
   "outputs": [
    {
     "name": "stdout",
     "output_type": "stream",
     "text": [
      "$176,194.05\n"
     ]
    }
   ],
   "source": [
    "print(f'${sum(discounted):,.2f}')"
   ]
  },
  {
   "cell_type": "markdown",
   "id": "844ef6ab",
   "metadata": {},
   "source": [
    "### 2. Let's calculate the IRR"
   ]
  },
  {
   "cell_type": "code",
   "execution_count": 23,
   "id": "6e88a9e8",
   "metadata": {},
   "outputs": [
    {
     "data": {
      "text/plain": [
       "0.21412447052527228"
      ]
     },
     "execution_count": 23,
     "metadata": {},
     "output_type": "execute_result"
    }
   ],
   "source": [
    "npf.irr(cashflows)"
   ]
  }
 ],
 "metadata": {
  "kernelspec": {
   "display_name": "Python 3 (ipykernel)",
   "language": "python",
   "name": "python3"
  },
  "language_info": {
   "codemirror_mode": {
    "name": "ipython",
    "version": 3
   },
   "file_extension": ".py",
   "mimetype": "text/x-python",
   "name": "python",
   "nbconvert_exporter": "python",
   "pygments_lexer": "ipython3",
   "version": "3.10.9"
  }
 },
 "nbformat": 4,
 "nbformat_minor": 5
}
